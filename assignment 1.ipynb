{
 "cells": [
  {
   "cell_type": "code",
   "execution_count": 76,
   "metadata": {},
   "outputs": [],
   "source": [
    "from scipy.optimize import linprog\n",
    "import numpy as np\n",
    "import random"
   ]
  },
  {
   "cell_type": "markdown",
   "metadata": {},
   "source": [
    "## Task 2"
   ]
  },
  {
   "cell_type": "code",
   "execution_count": 77,
   "metadata": {},
   "outputs": [],
   "source": [
    "# Compute the best strategy to schedule the use of the appliances\n",
    "off_peak_hours = range(0-16) and range(21-24)\n",
    "peak_hours = range(17-20)\n",
    "lighting_hours = range(10-20) # switch appliance?\n",
    "\n",
    "# Non-shiftable appliances\n",
    "lighting = 1.5\n",
    "refrigerator = 2\n",
    "tv = 0.6\n",
    "electric_stove = 3.9\n",
    "\n",
    "# Shiftable appliances\n",
    "dishwasher = 1.44\n",
    "laundry_machine = 1.94\n",
    "cloth_dryer = 2.50\n",
    "electric_vehicle = 9.9"
   ]
  },
  {
   "cell_type": "code",
   "execution_count": 78,
   "metadata": {},
   "outputs": [
    {
     "name": "stdout",
     "output_type": "stream",
     "text": [
      "[0.8966700418808315, 0.9109770211598633, 0.7425173139654726, 0.630810741472329, 0.5002258574425356, 0.8314092814418839, 0.7351271285322225, 0.8798653175489466, 0.6865801860369207, 0.8850699179689951, 0.6363490428359854, 0.9009577415813018, 0.864912416311008, 0.7070032205826517, 0.7691526097776384, 0.8410258706443392, 0.5964924378820438, 0.7768075827491421, 0.9025620249244866, 0.632760527219251, 0.9016826548056567, 0.8428449410502205, 0.9221411623980824, 0.6677910089129071]\n"
     ]
    }
   ],
   "source": [
    "# using a random function to generate the pricing curve in a day\n",
    "def generate_pricing_curve():\n",
    "    random.seed(6)\n",
    "    price_curve = []\n",
    "    for i in range(24):\n",
    "        if i in peak_hours:\n",
    "            # higher price in the peak hours\n",
    "            price_curve.append(random.uniform(1, 1.5))\n",
    "        else:\n",
    "            # lower price in the off-peak hours\n",
    "            price_curve.append(random.uniform(0.5, 1))\n",
    "    return price_curve\n",
    "\n",
    "pricing_curve = generate_pricing_curve()\n",
    "print(pricing_curve)"
   ]
  },
  {
   "cell_type": "code",
   "execution_count": 79,
   "metadata": {},
   "outputs": [],
   "source": [
    "c = pricing_curve\n",
    "\n",
    "# Coefficient for the constraints\n",
    "A_eq = [\n",
    "    [lighting] * 24,           # Lighting\n",
    "    [refrigerator] * 24,       # Refrigerator\n",
    "    [tv] * 24,                 # TV\n",
    "    [electric_stove] * 24,     # Electric stove\n",
    "    [0] * 24,                  # Dishwasher\n",
    "    [0] * 24,                  # Laundry machine\n",
    "    [0] * 24,                  # Cloth dryer\n",
    "    [0] * 24                   # Electric vehicle\n",
    "]\n",
    "\n",
    "# Upper bound constraints for each appliance\n",
    "b_eq = [lighting, refrigerator, tv, electric_stove] + [0] * 4\n",
    "\n",
    "# Bounds for each variable (x_i)\n",
    "bounds = [(0, None)] * 24  # Non-negativity constraints\n",
    "\n"
   ]
  },
  {
   "cell_type": "code",
   "execution_count": 80,
   "metadata": {},
   "outputs": [
    {
     "name": "stdout",
     "output_type": "stream",
     "text": [
      "Optimal energy  schedule:\n",
      "[0. 0. 0. 0. 1. 0. 0. 0. 0. 0. 0. 0. 0. 0. 0. 0. 0. 0. 0. 0. 0. 0. 0. 0.]\n",
      "Total cost: 0.5002258574\n"
     ]
    }
   ],
   "source": [
    "# write a program in order to minimize energy cost\n",
    "# pricing_curve\n",
    "# linprog\n",
    "# Solve the linear programming problem\n",
    "result = linprog(c, A_eq=A_eq, b_eq=b_eq, bounds=bounds)\n",
    "\n",
    "if result.success:\n",
    "    # Round the optimal energy consumption schedule\n",
    "    optimal_schedule = np.round(result.x, decimals=7)\n",
    "    total_cost = np.dot(pricing_curve, optimal_schedule)\n",
    "    \n",
    "    # Print the result\n",
    "    print(\"Optimal energy  schedule:\")\n",
    "    print(optimal_schedule )\n",
    "    print(\"Total cost:\", round(result.fun, 10))\n",
    "else:\n",
    "    print(\"No solution found.\")"
   ]
  },
  {
   "cell_type": "code",
   "execution_count": 81,
   "metadata": {},
   "outputs": [],
   "source": [
    "# matplot for flow chart\n"
   ]
  },
  {
   "cell_type": "markdown",
   "metadata": {},
   "source": [
    "## Task 3"
   ]
  },
  {
   "cell_type": "code",
   "execution_count": 82,
   "metadata": {},
   "outputs": [],
   "source": [
    "# Requirement: Small neighborhood that has 30 households\n",
    "# Each household has the same setting as that in question 2. But, we assume that only a fraction of the households owns an EV. \n"
   ]
  },
  {
   "cell_type": "code",
   "execution_count": 83,
   "metadata": {},
   "outputs": [
    {
     "name": "stdout",
     "output_type": "stream",
     "text": [
      "[0.8966700418808315, 0.9109770211598633, 0.7425173139654726, 0.630810741472329, 0.5002258574425356, 0.8314092814418839, 0.7351271285322225, 0.8798653175489466, 0.6865801860369207, 0.8850699179689951, 0.6363490428359854, 0.9009577415813018, 0.864912416311008, 0.7070032205826517, 0.7691526097776384, 0.8410258706443392, 0.5964924378820438, 0.7768075827491421, 0.9025620249244866, 0.632760527219251, 0.9016826548056567, 0.8428449410502205, 0.9221411623980824, 0.6677910089129071]\n"
     ]
    }
   ],
   "source": [
    "# Please use Real-Time Pricing (RTP) scheme: using random function to generate the pricing curve in a day. \n",
    "# The pricing curve should consider higher price in the peak-hours and lower price in the off-peak hours. \n",
    "print(pricing_curve)"
   ]
  },
  {
   "cell_type": "code",
   "execution_count": 84,
   "metadata": {},
   "outputs": [],
   "source": [
    "# Compute the best strategy for scheduling the appliances and write a program in order to minimize energy cost in the neighborhood. \n",
    "\n",
    "\n",
    "# write a program in order to minimize energy cost\n",
    "# pricing_curve\n",
    "# linprog"
   ]
  },
  {
   "cell_type": "markdown",
   "metadata": {},
   "source": [
    "## Task 4"
   ]
  },
  {
   "cell_type": "code",
   "execution_count": 85,
   "metadata": {},
   "outputs": [],
   "source": [
    "\"\"\"\n",
    "We may observe that in some timeslots, energy consumption is very high. \n",
    "Then, the objective function should consider both energy cost and the peak load. \n",
    "\n",
    "if (total energy consumption of all appliances) > peak load:\n",
    "    add_constraints\n",
    "\n",
    "\"\"\"\n",
    "\n",
    "peak_load = 0"
   ]
  },
  {
   "cell_type": "code",
   "execution_count": 86,
   "metadata": {},
   "outputs": [
    {
     "name": "stdout",
     "output_type": "stream",
     "text": [
      "[0.8966700418808315, 0.9109770211598633, 0.7425173139654726, 0.630810741472329, 0.5002258574425356, 0.8314092814418839, 0.7351271285322225, 0.8798653175489466, 0.6865801860369207, 0.8850699179689951, 0.6363490428359854, 0.9009577415813018, 0.864912416311008, 0.7070032205826517, 0.7691526097776384, 0.8410258706443392, 0.5964924378820438, 0.7768075827491421, 0.9025620249244866, 0.632760527219251, 0.9016826548056567, 0.8428449410502205, 0.9221411623980824, 0.6677910089129071]\n"
     ]
    }
   ],
   "source": [
    "# Please use the same setting of the appliances\n",
    "\n",
    "# Real-Time Pricing (RTP) scheme\n",
    "print(pricing_curve)"
   ]
  },
  {
   "cell_type": "code",
   "execution_count": 87,
   "metadata": {},
   "outputs": [],
   "source": [
    "# Please formulate an optimization problem and compute the best strategy to schedule the use of the appliances."
   ]
  },
  {
   "cell_type": "code",
   "execution_count": 88,
   "metadata": {},
   "outputs": [
    {
     "name": "stdout",
     "output_type": "stream",
     "text": [
      "Optimal Solution: [0.   0.   0.   0.   0.   0.   0.   0.   0.   0.   0.   0.   0.   0.\n",
      " 0.   0.   1.44 0.   0.   0.   0.   0.   0.   0.   0.   0.   0.   0.\n",
      " 1.94 0.   0.   0.   0.   0.   0.   0.   0.   0.   0.   0.   0.   0.\n",
      " 0.   0.   0.   0.   0.   0.   0.   0.   0.   0.   0.   0.   0.   0.\n",
      " 0.   0.   0.   0.   0.   0.   0.   0.   2.5  0.   0.   0.   0.   0.\n",
      " 0.   0.   0.   0.   0.   3.32 4.29 0.   0.   0.   0.   0.   0.   0.\n",
      " 0.   0.   0.   0.   2.29 0.   0.   0.   0.   0.   0.   0.  ]\n",
      "Optimal Value of Objective Function: 8.926846641560264\n"
     ]
    }
   ],
   "source": [
    "#Not exactly done with this!!!\n",
    "\n",
    "A_eq = []\n",
    "for i in range(4):\n",
    "    row = [1 if i * 24 <= j < i * 24 + 24 else 0 for j in range(96)]\n",
    "    A_eq.append(row)\n",
    "\n",
    "# Right-hand side of the equality constraints\n",
    "b_eq = [1.44, 1.94, 2.5, 9.9]\n",
    "\n",
    "# Coefficient matrix of the inequality constraints\n",
    "A_ub = []  \n",
    "identity_matrix = np.eye(24)\n",
    "for i in range(24):\n",
    "    row = np.tile(identity_matrix[i], 4)\n",
    "    A_ub.append(row.tolist())\n",
    "\n",
    "# Right-hand side of the inequality constraints\n",
    "hour_power_cap_vector = np.full(24, 7)  # in kWh\n",
    "k = np.array([0.77 for _ in range(24)])  # hourly power usage for all non-shiftable appliances\n",
    "b_ub = hour_power_cap_vector - k  \n",
    "\n",
    "# Bounds for each decision variable\n",
    "bounds = [(0, None) for _ in range(96)]  # Non-negative bounds for all variables\n",
    "\n",
    "# Objective function coefficients\n",
    "c = [00.8966700418808315, 0.9109770211598633, 0.7425173139654726, 0.630810741472329, 0.5002258574425356, 0.8314092814418839, 0.7351271285322225, 0.8798653175489466, 0.6865801860369207, 0.8850699179689951, 0.6363490428359854, 0.9009577415813018, 0.864912416311008, 0.7070032205826517, 0.7691526097776384, 0.8410258706443392, 0.5964924378820438, 0.7768075827491421, 0.9025620249244866, 0.632760527219251, 0.9016826548056567, 0.8428449410502205, 0.9221411623980824, 0.6677910089129071] * 4\n",
    "\n",
    "# Solve the linear programming problem\n",
    "result = linprog(c, A_eq=A_eq, b_eq=b_eq, A_ub=A_ub, b_ub=b_ub, bounds=bounds, method='highs')\n",
    "\n",
    "# Check if the optimization was successful\n",
    "if result.success:\n",
    "    optimal_solution = result.x\n",
    "    optimal_value = result.fun\n",
    "    print(\"Optimal Solution:\", optimal_solution)\n",
    "    print(\"Optimal Value of Objective Function:\", optimal_value)\n",
    "else:\n",
    "    print(\"Optimization failed. Message:\", result.message)\n"
   ]
  }
 ],
 "metadata": {
  "kernelspec": {
   "display_name": "Python 3",
   "language": "python",
   "name": "python3"
  },
  "language_info": {
   "codemirror_mode": {
    "name": "ipython",
    "version": 3
   },
   "file_extension": ".py",
   "mimetype": "text/x-python",
   "name": "python",
   "nbconvert_exporter": "python",
   "pygments_lexer": "ipython3",
   "version": "3.11.8"
  }
 },
 "nbformat": 4,
 "nbformat_minor": 2
}
