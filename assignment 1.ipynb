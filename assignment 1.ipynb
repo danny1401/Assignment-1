{
 "cells": [
  {
   "cell_type": "code",
   "execution_count": 2,
   "metadata": {},
   "outputs": [],
   "source": [
    "from scipy.optimize import linprog\n",
    "import numpy as np\n",
    "import random"
   ]
  },
  {
   "cell_type": "markdown",
   "metadata": {},
   "source": [
    "## Task 2"
   ]
  },
  {
   "cell_type": "code",
   "execution_count": 3,
   "metadata": {},
   "outputs": [],
   "source": [
    "# Compute the best strategy to schedule the use of the appliances\n",
    "off_peak_hours = range(0-16) and range(21-24)\n",
    "peak_hours = range(17-20)\n",
    "lighting_hours = range(10-20) # switch appliance?\n",
    "\n",
    "# Non-shiftable appliances\n",
    "lighting = 1.5\n",
    "refrigerator = 2\n",
    "tv = 0.6\n",
    "electric_stove = 3.9\n",
    "\n",
    "# Shiftable appliances\n",
    "dishwasher = 1.44\n",
    "laundry_machine = 1.94\n",
    "cloth_dryer = 2.50\n",
    "electric_vehicle = 9.9"
   ]
  },
  {
   "cell_type": "code",
   "execution_count": 4,
   "metadata": {},
   "outputs": [
    {
     "name": "stdout",
     "output_type": "stream",
     "text": [
      "[0.8966700418808315, 0.9109770211598633, 0.7425173139654726, 0.630810741472329, 0.5002258574425356, 0.8314092814418839, 0.7351271285322225, 0.8798653175489466, 0.6865801860369207, 0.8850699179689951, 0.6363490428359854, 0.9009577415813018, 0.864912416311008, 0.7070032205826517, 0.7691526097776384, 0.8410258706443392, 0.5964924378820438, 0.7768075827491421, 0.9025620249244866, 0.632760527219251, 0.9016826548056567, 0.8428449410502205, 0.9221411623980824, 0.6677910089129071]\n"
     ]
    }
   ],
   "source": [
    "# using a random function to generate the pricing curve in a day\n",
    "def generate_pricing_curve():\n",
    "    random.seed(6)\n",
    "    price_curve = []\n",
    "    for i in range(24):\n",
    "        if i in peak_hours:\n",
    "            # higher price in the peak hours\n",
    "            price_curve.append(random.uniform(1, 1.5))\n",
    "        else:\n",
    "            # lower price in the off-peak hours\n",
    "            price_curve.append(random.uniform(0.5, 1))\n",
    "    return price_curve\n",
    "\n",
    "pricing_curve = generate_pricing_curve()\n",
    "print(pricing_curve)"
   ]
  },
  {
   "cell_type": "code",
   "execution_count": 5,
   "metadata": {},
   "outputs": [],
   "source": [
    "# write a program in order to minimize energy cost\n",
    "# pricing_curve\n",
    "# linprog\n"
   ]
  },
  {
   "cell_type": "code",
   "execution_count": 6,
   "metadata": {},
   "outputs": [],
   "source": [
    "# matplot for flow chart\n"
   ]
  },
  {
   "cell_type": "markdown",
   "metadata": {},
   "source": [
    "## Task 3"
   ]
  },
  {
   "cell_type": "code",
   "execution_count": 7,
   "metadata": {},
   "outputs": [
    {
     "ename": "SyntaxError",
     "evalue": "invalid syntax (697549062.py, line 14)",
     "output_type": "error",
     "traceback": [
      "\u001b[1;36m  Cell \u001b[1;32mIn[7], line 14\u001b[1;36m\u001b[0m\n\u001b[1;33m    for(len(range(3)):\u001b[0m\n\u001b[1;37m                     ^\u001b[0m\n\u001b[1;31mSyntaxError\u001b[0m\u001b[1;31m:\u001b[0m invalid syntax\n"
     ]
    }
   ],
   "source": [
    "# Requirement: Small neighborhood that has 30 households\n",
    "households = 30\n",
    "\n",
    "# Each household has the same setting as that in question 2\n",
    "\n",
    "\n",
    "# Only a fraction of the households owns an EV. \n",
    "household_withEV = 10\n",
    "\n",
    "# Real-Time Pricing (RTP) scheme\n",
    "pricing_curve = generate_pricing_curve()\n",
    "\n",
    "# Compute the best strategy for scheduling the appliances and write a program in order to minimize energy cost in the neighborhood. \n",
    "# for(len(range(3)):\n",
    "\n",
    "\n",
    "# write a program in order to minimize energy cost\n",
    "# pricing_curve\n",
    "# linprog"
   ]
  },
  {
   "cell_type": "markdown",
   "metadata": {},
   "source": [
    "## Task 4"
   ]
  },
  {
   "cell_type": "code",
   "execution_count": 8,
   "metadata": {},
   "outputs": [],
   "source": [
    "\"\"\"\n",
    "We may observe that in some timeslots, energy consumption is very high. \n",
    "Then, the objective function should consider both energy cost and the peak load. \n",
    "\n",
    "if (total energy consumption of all appliances) > peak load:\n",
    "    add_constraints\n",
    "\n",
    "\"\"\"\n",
    "\n",
    "peak_load = 0"
   ]
  },
  {
   "cell_type": "code",
   "execution_count": 9,
   "metadata": {},
   "outputs": [],
   "source": [
    "# Please use the same setting of the appliances\n",
    "\n",
    "# Real-Time Pricing (RTP) scheme\n",
    "pricing_curve = generate_pricing_curve()\n",
    "\n",
    "# Please formulate an optimization problem and compute the best strategy to schedule the use of the appliances."
   ]
  }
 ],
 "metadata": {
  "kernelspec": {
   "display_name": "Python 3",
   "language": "python",
   "name": "python3"
  },
  "language_info": {
   "codemirror_mode": {
    "name": "ipython",
    "version": 3
   },
   "file_extension": ".py",
   "mimetype": "text/x-python",
   "name": "python",
   "nbconvert_exporter": "python",
   "pygments_lexer": "ipython3",
   "version": "3.11.7"
  }
 },
 "nbformat": 4,
 "nbformat_minor": 2
}
