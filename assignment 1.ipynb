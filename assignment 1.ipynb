{
 "cells": [
  {
   "cell_type": "code",
   "execution_count": 2,
   "metadata": {},
   "outputs": [],
   "source": [
    "from scipy.optimize import linprog\n",
    "import numpy as np\n",
    "import random"
   ]
  },
  {
   "cell_type": "markdown",
   "metadata": {},
   "source": [
    "## Task 2"
   ]
  },
  {
   "cell_type": "code",
   "execution_count": 3,
   "metadata": {},
   "outputs": [],
   "source": [
    "# Compute the best strategy to schedule the use of the appliances\n",
    "off_peak_hours = range(0-16) and range(21-24)\n",
    "peak_hours = range(17-20)\n",
    "lighting_hours = range(10-20) # switch appliance?\n",
    "\n",
    "# Non-shiftable appliances\n",
    "lighting = 1.5\n",
    "refrigerator = 2\n",
    "tv = 0.6\n",
    "electric_stove = 3.9\n",
    "\n",
    "# Shiftable appliances\n",
    "dishwasher = 1.44\n",
    "laundry_machine = 1.94\n",
    "cloth_dryer = 2.50\n",
    "electric_vehicle = 9.9"
   ]
  },
  {
   "cell_type": "code",
   "execution_count": 14,
   "metadata": {},
   "outputs": [
    {
     "name": "stdout",
     "output_type": "stream",
     "text": [
      "[0.8966700418808315, 0.9109770211598633, 0.7425173139654726, 0.630810741472329, 0.5002258574425356, 0.8314092814418839, 0.7351271285322225, 0.8798653175489466, 0.6865801860369207, 0.8850699179689951, 0.6363490428359854, 0.9009577415813018, 0.864912416311008, 0.7070032205826517, 0.7691526097776384, 0.8410258706443392, 0.5964924378820438, 0.7768075827491421, 0.9025620249244866, 0.632760527219251, 0.9016826548056567, 0.8428449410502205, 0.9221411623980824, 0.6677910089129071]\n"
     ]
    }
   ],
   "source": [
    "# Real-Time Pricing (RTP) scheme: using a random function to generate the pricing curve in a day\n",
    "def generate_pricing_curve():\n",
    "    random.seed(6)\n",
    "    pricing_curve = []\n",
    "    for i in range(24):\n",
    "        if i in peak_hours:\n",
    "            # higher price in the peak hours\n",
    "            pricing_curve.append(random.uniform(1, 1.5))\n",
    "        else:\n",
    "            # lower price in the off-peak hours\n",
    "            pricing_curve.append(random.uniform(0.5, 1))\n",
    "    return pricing_curve\n",
    "\n",
    "price = generate_pricing_curve()\n",
    "print(price)"
   ]
  },
  {
   "cell_type": "code",
   "execution_count": 15,
   "metadata": {},
   "outputs": [
    {
     "name": "stdout",
     "output_type": "stream",
     "text": [
      "Optimal energy schedule:\n",
      "[0. 0. 0. 0. 1. 0. 0. 0. 0. 0. 0. 0. 0. 0. 0. 0. 0. 0. 0. 0. 0. 0. 0. 0.]\n",
      "Total cost: 0.5002258574\n"
     ]
    }
   ],
   "source": [
    "# Write a program in order to minimize energy cost\n",
    "c = price\n",
    "\n",
    "# Coefficient for the constraints\n",
    "A_eq = [\n",
    "    [lighting] * 24,           # Lighting\n",
    "    [refrigerator] * 24,       # Refrigerator\n",
    "    [tv] * 24,                 # TV\n",
    "    [electric_stove] * 24,     # Electric stove\n",
    "    [0] * 24,                  # Dishwasher\n",
    "    [0] * 24,                  # Laundry machine\n",
    "    [0] * 24,                  # Cloth dryer\n",
    "    [0] * 24                   # Electric vehicle\n",
    "]\n",
    "\n",
    "# Upper bound constraints for each appliance\n",
    "b_eq = [lighting, refrigerator, tv, electric_stove] + [0] * 4\n",
    "\n",
    "# Bounds for each variable (x_i)\n",
    "bounds = [(0, None)] * 24  # Non-negativity constraints\n",
    "\n",
    "# Solve the linear programming problem\n",
    "result = linprog(c, A_eq=A_eq, b_eq=b_eq, bounds=bounds)\n",
    "\n",
    "if result.success:\n",
    "    # Round the optimal energy consumption schedule\n",
    "    optimal_schedule = np.round(result.x, decimals=7)\n",
    "    total_cost = np.dot(pricing_curve, optimal_schedule)\n",
    "    \n",
    "    # Print the result\n",
    "    print(\"Optimal energy schedule:\")\n",
    "    print(optimal_schedule )\n",
    "    print(\"Total cost:\", round(result.fun, 10))\n",
    "else:\n",
    "    print(\"No solution found.\")"
   ]
  },
  {
   "cell_type": "code",
   "execution_count": 16,
   "metadata": {},
   "outputs": [],
   "source": [
    "# matplot for flow chart\n"
   ]
  },
  {
   "cell_type": "markdown",
   "metadata": {},
   "source": [
    "## Task 3"
   ]
  },
  {
   "cell_type": "code",
   "execution_count": 76,
   "metadata": {},
   "outputs": [
    {
     "name": "stdout",
     "output_type": "stream",
     "text": [
      "Household with EV: 2\n",
      "Household without EV 28\n"
     ]
    }
   ],
   "source": [
    "# Each household has the same setting as that in question 2\n",
    "household = A_eq\n",
    "\n",
    "# Real-Time Pricing (RTP) scheme\n",
    "c = price\n",
    "\n",
    "# Requirement: Small neighborhood that has 30 households, only a fraction of the households owns an EV. \n",
    "neighborhood = 30\n",
    "household_withEV = (1/neighborhood)\n",
    "\n",
    "hEV = 0\n",
    "hNEV = 0\n",
    "for i in (range(neighborhood)):\n",
    "    if random.random() < household_withEV:\n",
    "        hEV = hEV + 1\n",
    "        # add EV array\n",
    "    else:\n",
    "        hNEV = hNEV + 1\n",
    "        # add to non EV array\n",
    "        \n",
    "print (f\"Household with EV: {hEV}\")\n",
    "print (f\"Household without EV: {hNEV}\")\n",
    "\n",
    "# merge arrays and input to linprog\n",
    "\n",
    "# how do i create bounds???\n",
    "\n",
    "# Write a program in order to minimize energy cost in the neighborhood. \n",
    "result = linprog(c, A_eq=EV_A_eq, b_eq=EV_b_eq, bounds=EV_bounds, method='highs') "
   ]
  },
  {
   "cell_type": "markdown",
   "metadata": {},
   "source": [
    "## Task 4"
   ]
  },
  {
   "cell_type": "code",
   "execution_count": null,
   "metadata": {},
   "outputs": [],
   "source": [
    "\"\"\"\n",
    "We may observe that in some timeslots, energy consumption is very high. \n",
    "Then, the objective function should consider both energy cost and the peak load. \n",
    "\n",
    "if (total energy consumption of all appliances) > peak load:\n",
    "    add_constraints\n",
    "\n",
    "\"\"\"\n",
    "\n",
    "peak_load = 0"
   ]
  },
  {
   "cell_type": "code",
   "execution_count": null,
   "metadata": {},
   "outputs": [],
   "source": [
    "# Please use the same setting of the appliances\n",
    "\n",
    "# Real-Time Pricing (RTP) scheme\n",
    "c = price\n",
    "\n",
    "# Please formulate an optimization problem and compute the best strategy to schedule the use of the appliances."
   ]
  }
 ],
 "metadata": {
  "kernelspec": {
   "display_name": "Python 3",
   "language": "python",
   "name": "python3"
  },
  "language_info": {
   "codemirror_mode": {
    "name": "ipython",
    "version": 3
   },
   "file_extension": ".py",
   "mimetype": "text/x-python",
   "name": "python",
   "nbconvert_exporter": "python",
   "pygments_lexer": "ipython3",
   "version": "3.11.7"
  }
 },
 "nbformat": 4,
 "nbformat_minor": 2
}
